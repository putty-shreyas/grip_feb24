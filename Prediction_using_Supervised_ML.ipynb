{
 "cells": [
  {
   "cell_type": "markdown",
   "id": "a823bc95",
   "metadata": {},
   "source": [
    "## Prediction of student performance based on study hours using Supervised ML"
   ]
  },
  {
   "cell_type": "markdown",
   "id": "11caa750",
   "metadata": {},
   "source": [
    "## Importing Libraries"
   ]
  },
  {
   "cell_type": "code",
   "execution_count": 1,
   "id": "690cf2cd",
   "metadata": {},
   "outputs": [],
   "source": [
    "# Importing the libraries which are used throughout the code\n",
    "import numpy as np\n",
    "import pandas as pd\n",
    "import matplotlib.pyplot as plt\n",
    "from sklearn.model_selection import train_test_split\n",
    "from sklearn.linear_model import LinearRegression\n",
    "from sklearn.metrics import mean_squared_error, mean_absolute_error, r2_score"
   ]
  },
  {
   "cell_type": "markdown",
   "id": "e8f6fe6d",
   "metadata": {},
   "source": [
    "## Importing and Reading the Raw Data"
   ]
  },
  {
   "cell_type": "code",
   "execution_count": 2,
   "id": "2182b71d",
   "metadata": {},
   "outputs": [
    {
     "data": {
      "text/html": [
       "<div>\n",
       "<style scoped>\n",
       "    .dataframe tbody tr th:only-of-type {\n",
       "        vertical-align: middle;\n",
       "    }\n",
       "\n",
       "    .dataframe tbody tr th {\n",
       "        vertical-align: top;\n",
       "    }\n",
       "\n",
       "    .dataframe thead th {\n",
       "        text-align: right;\n",
       "    }\n",
       "</style>\n",
       "<table border=\"1\" class=\"dataframe\">\n",
       "  <thead>\n",
       "    <tr style=\"text-align: right;\">\n",
       "      <th></th>\n",
       "      <th>Hours</th>\n",
       "      <th>Scores</th>\n",
       "    </tr>\n",
       "  </thead>\n",
       "  <tbody>\n",
       "    <tr>\n",
       "      <th>0</th>\n",
       "      <td>2.5</td>\n",
       "      <td>21</td>\n",
       "    </tr>\n",
       "    <tr>\n",
       "      <th>1</th>\n",
       "      <td>5.1</td>\n",
       "      <td>47</td>\n",
       "    </tr>\n",
       "    <tr>\n",
       "      <th>2</th>\n",
       "      <td>3.2</td>\n",
       "      <td>27</td>\n",
       "    </tr>\n",
       "    <tr>\n",
       "      <th>3</th>\n",
       "      <td>8.5</td>\n",
       "      <td>75</td>\n",
       "    </tr>\n",
       "    <tr>\n",
       "      <th>4</th>\n",
       "      <td>3.5</td>\n",
       "      <td>30</td>\n",
       "    </tr>\n",
       "  </tbody>\n",
       "</table>\n",
       "</div>"
      ],
      "text/plain": [
       "   Hours  Scores\n",
       "0    2.5      21\n",
       "1    5.1      47\n",
       "2    3.2      27\n",
       "3    8.5      75\n",
       "4    3.5      30"
      ]
     },
     "execution_count": 2,
     "metadata": {},
     "output_type": "execute_result"
    }
   ],
   "source": [
    "# Importing and reading the raw data from the provided url using pandas\n",
    "data_url = \"http://bit.ly/w-data\"\n",
    "student_df = pd.read_csv(data_url)\n",
    "student_df.head()"
   ]
  },
  {
   "cell_type": "markdown",
   "id": "de199ea8",
   "metadata": {},
   "source": [
    "## Visualizing the Raw Data"
   ]
  },
  {
   "cell_type": "code",
   "execution_count": 3,
   "id": "491a5516",
   "metadata": {},
   "outputs": [
    {
     "data": {
      "image/png": "[encoded data removed]",
      "text/plain": [
       "<Figure size 432x288 with 1 Axes>"
      ]
     },
     "metadata": {
      "needs_background": "light"
     },
     "output_type": "display_data"
    }
   ],
   "source": [
    "# Visualizing the raw data using matplotlib.pyplot\n",
    "student_df.plot(x = \"Hours\", y = \"Scores\", style = \"x\")\n",
    "plt.title(\"Student Performance Data\")\n",
    "plt.xlabel(\"Hours\")\n",
    "plt.ylabel(\"Scores\")\n",
    "plt.grid()\n",
    "plt.show()"
   ]
  },
  {
   "cell_type": "markdown",
   "id": "69e9a586",
   "metadata": {},
   "source": [
    "## Defining Features and Labels"
   ]
  },
  {
   "cell_type": "code",
   "execution_count": 4,
   "id": "90131fbe",
   "metadata": {},
   "outputs": [],
   "source": [
    "# Splitting the raw data into Features and Labels\n",
    "X = student_df[\"Hours\"].values.reshape(-1,1) # Changing shape for model training\n",
    "y = student_df[\"Scores\"].values"
   ]
  },
  {
   "cell_type": "code",
   "execution_count": 5,
   "id": "4ce6e68f",
   "metadata": {},
   "outputs": [
    {
     "data": {
      "text/plain": [
       "array([[2.5],\n",
       "       [5.1],\n",
       "       [3.2],\n",
       "       [8.5],\n",
       "       [3.5]])"
      ]
     },
     "execution_count": 5,
     "metadata": {},
     "output_type": "execute_result"
    }
   ],
   "source": [
    "X[:5]"
   ]
  },
  {
   "cell_type": "code",
   "execution_count": 6,
   "id": "543a08be",
   "metadata": {},
   "outputs": [
    {
     "data": {
      "text/plain": [
       "array([21, 47, 27, 75, 30], dtype=int64)"
      ]
     },
     "execution_count": 6,
     "metadata": {},
     "output_type": "execute_result"
    }
   ],
   "source": [
    "y[:5]"
   ]
  },
  {
   "cell_type": "markdown",
   "id": "cad8f2d4",
   "metadata": {},
   "source": [
    "## Splitting Features and Labels into Train and Test Data"
   ]
  },
  {
   "cell_type": "code",
   "execution_count": 7,
   "id": "08194288",
   "metadata": {},
   "outputs": [],
   "source": [
    "# Splitting features and labels into train and test data\n",
    "X_train, X_test, y_train, y_test = train_test_split(X, y, test_size=0.2, random_state = 42)"
   ]
  },
  {
   "cell_type": "markdown",
   "id": "3c28df20",
   "metadata": {},
   "source": [
    "## Model Training"
   ]
  },
  {
   "cell_type": "code",
   "execution_count": 8,
   "id": "7dacf55d",
   "metadata": {},
   "outputs": [
    {
     "name": "stdout",
     "output_type": "stream",
     "text": [
      "Regression model training completed !\n"
     ]
    }
   ],
   "source": [
    "# Creating model instance\n",
    "regressor = LinearRegression()\n",
    "regressor.fit(X_train, y_train)\n",
    "\n",
    "print(\"Regression model training completed !\")"
   ]
  },
  {
   "cell_type": "markdown",
   "id": "d9158505",
   "metadata": {},
   "source": [
    "## Visualizing the Regression Line"
   ]
  },
  {
   "cell_type": "code",
   "execution_count": 9,
   "id": "d75081b6",
   "metadata": {},
   "outputs": [
    {
     "data": {
      "image/png": "[encoded data removed]",
      "text/plain": [
       "<Figure size 432x288 with 1 Axes>"
      ]
     },
     "metadata": {
      "needs_background": "light"
     },
     "output_type": "display_data"
    }
   ],
   "source": [
    "# Visualizing the regression line with raw data\n",
    "reg_line = regressor.coef_*X+regressor.intercept_\n",
    "\n",
    "plt.scatter(X, y, color = \"blue\", label = \"Raw Data\")\n",
    "plt.plot(X, reg_line, color = \"red\", label = \"Regression Line\")\n",
    "plt.title('Regression line fit on Raw Data') \n",
    "plt.xlabel(\"Hours\")  \n",
    "plt.ylabel(\"Scores\")\n",
    "plt.grid()\n",
    "plt.legend()\n",
    "plt.show()"
   ]
  },
  {
   "cell_type": "markdown",
   "id": "1da5b681",
   "metadata": {},
   "source": [
    "## Model Prediction on Test Data"
   ]
  },
  {
   "cell_type": "code",
   "execution_count": 10,
   "id": "1fb123f7",
   "metadata": {},
   "outputs": [
    {
     "name": "stdout",
     "output_type": "stream",
     "text": [
      "[81 30 21 76 62] [83.18814104 27.03208774 27.03208774 69.63323162 59.95115347]\n"
     ]
    }
   ],
   "source": [
    "# Predicting the test labels\n",
    "y_pred = regressor.predict(X_test)\n",
    "print(y_test, y_pred)"
   ]
  },
  {
   "cell_type": "markdown",
   "id": "5ea2ccac",
   "metadata": {},
   "source": [
    "## Model Evaluation using Regression Metrics"
   ]
  },
  {
   "cell_type": "code",
   "execution_count": 11,
   "id": "b685a70c",
   "metadata": {},
   "outputs": [
    {
     "data": {
      "text/html": [
       "<div>\n",
       "<style scoped>\n",
       "    .dataframe tbody tr th:only-of-type {\n",
       "        vertical-align: middle;\n",
       "    }\n",
       "\n",
       "    .dataframe tbody tr th {\n",
       "        vertical-align: top;\n",
       "    }\n",
       "\n",
       "    .dataframe thead th {\n",
       "        text-align: right;\n",
       "    }\n",
       "</style>\n",
       "<table border=\"1\" class=\"dataframe\">\n",
       "  <thead>\n",
       "    <tr style=\"text-align: right;\">\n",
       "      <th></th>\n",
       "      <th>MSE</th>\n",
       "      <th>MAE</th>\n",
       "      <th>r2_score</th>\n",
       "    </tr>\n",
       "  </thead>\n",
       "  <tbody>\n",
       "    <tr>\n",
       "      <th>0</th>\n",
       "      <td>18.943212</td>\n",
       "      <td>3.920751</td>\n",
       "      <td>0.967806</td>\n",
       "    </tr>\n",
       "  </tbody>\n",
       "</table>\n",
       "</div>"
      ],
      "text/plain": [
       "         MSE       MAE  r2_score\n",
       "0  18.943212  3.920751  0.967806"
      ]
     },
     "execution_count": 11,
     "metadata": {},
     "output_type": "execute_result"
    }
   ],
   "source": [
    "# Evaluating the model using Regression metrics\n",
    "mse_value = mean_squared_error(y_test, y_pred)\n",
    "mae_value = mean_absolute_error(y_test, y_pred)\n",
    "r2_value = r2_score(y_test, y_pred)\n",
    "performance_df = pd.DataFrame({\"MSE\": [mse_value],\n",
    "                              \"MAE\": [mae_value],\n",
    "                              \"r2_score\": [r2_value]})\n",
    "performance_df"
   ]
  },
  {
   "cell_type": "markdown",
   "id": "065d909e",
   "metadata": {},
   "source": [
    "## Prediction on Task Question"
   ]
  },
  {
   "cell_type": "code",
   "execution_count": 12,
   "id": "254ed0c6",
   "metadata": {},
   "outputs": [
    {
     "name": "stdout",
     "output_type": "stream",
     "text": [
      "Student performance with 9.25 hours of study is: 92.38611528261494\n"
     ]
    }
   ],
   "source": [
    "# Predicting the task question\n",
    "task_hour = np.array([9.25])\n",
    "task_score = regressor.predict(task_hour.reshape(-1,1))\n",
    "print(\"Student performance with 9.25 hours of study is:\", task_score[0])"
   ]
  }
 ],
 "metadata": {
  "kernelspec": {
   "display_name": "Python 3 (ipykernel)",
   "language": "python",
   "name": "python3"
  },
  "language_info": {
   "codemirror_mode": {
    "name": "ipython",
    "version": 3
   },
   "file_extension": ".py",
   "mimetype": "text/x-python",
   "name": "python",
   "nbconvert_exporter": "python",
   "pygments_lexer": "ipython3",
   "version": "3.9.7"
  }
 },
 "nbformat": 4,
 "nbformat_minor": 5
}
